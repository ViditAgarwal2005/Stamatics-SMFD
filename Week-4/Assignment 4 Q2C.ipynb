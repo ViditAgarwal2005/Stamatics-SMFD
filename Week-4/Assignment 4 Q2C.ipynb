{
  "nbformat": 4,
  "nbformat_minor": 0,
  "metadata": {
    "colab": {
      "provenance": []
    },
    "kernelspec": {
      "name": "python3",
      "display_name": "Python 3"
    },
    "language_info": {
      "name": "python"
    }
  },
  "cells": [
    {
      "cell_type": "code",
      "execution_count": null,
      "metadata": {
        "colab": {
          "base_uri": "https://localhost:8080/"
        },
        "id": "odJBHHfySv48",
        "outputId": "fe16f120-c718-4032-bfef-c95031b22d24"
      },
      "outputs": [
        {
          "output_type": "stream",
          "name": "stdout",
          "text": [
            "Estimated fair value ≈ 0.1397\n"
          ]
        }
      ],
      "source": [
        "import numpy as np\n",
        "\n",
        "# Parameters\n",
        "S0 = 100\n",
        "K = 105\n",
        "days = 10\n",
        "n_sim = 100_000\n",
        "\n",
        "# Simulate daily changes from Uniform(-2, 2)\n",
        "daily_moves = np.random.uniform(-2, 2, size=(n_sim, days))\n",
        "\n",
        "# Final prices after 10 days\n",
        "S_T = S0 + daily_moves.sum(axis=1)\n",
        "\n",
        "# Payoffs\n",
        "payoffs = np.maximum(S_T - K, 0)\n",
        "\n",
        "# Fair value = expected payoff\n",
        "fair_value = np.mean(payoffs)\n",
        "print(f\"Estimated fair value ≈ {fair_value:.4f}\")\n"
      ]
    },
    {
      "cell_type": "code",
      "source": [],
      "metadata": {
        "id": "u9KRkj08Syxk"
      },
      "execution_count": null,
      "outputs": []
    }
  ]
}