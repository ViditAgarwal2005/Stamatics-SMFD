{
  "nbformat": 4,
  "nbformat_minor": 0,
  "metadata": {
    "colab": {
      "provenance": []
    },
    "kernelspec": {
      "name": "python3",
      "display_name": "Python 3"
    },
    "language_info": {
      "name": "python"
    }
  },
  "cells": [
    {
      "cell_type": "code",
      "source": [
        "import numpy as np\n",
        "from scipy.integrate import quad\n",
        "\n",
        "# Parameters\n",
        "S0 = 100\n",
        "K = 105\n",
        "T = 10\n",
        "\n",
        "# Volatility\n",
        "sigma_daily = np.sqrt(np.pi / 2)           # Daily std dev ≈ 1.253\n",
        "sigma_T = np.sqrt(T) * sigma_daily         # Total std dev ≈ 3.963\n",
        "mu = 0        # Risk-neutral drift ≈ -3.249\n",
        "\n",
        "# Correct lognormal PDF\n",
        "def f_ST(S):\n",
        "    if S <= 0:\n",
        "        return 0\n",
        "    logS = np.log(S)\n",
        "    coeff = 1 / (S * sigma_T * np.sqrt(2 * np.pi))\n",
        "    exponent = -((logS - mu)**2) / (2 * sigma_T**2)\n",
        "    return coeff * np.exp(exponent)\n",
        "\n",
        "# Payoff function: (S - K) * f(S)\n",
        "def integrand(S):\n",
        "    return (S - K) * f_ST(S)\n",
        "\n",
        "# Integrate from K to reasonable upper bound\n",
        "fair_value, _ = quad(integrand, K, 1000)\n",
        "\n",
        "print(f\"✅ Correct fair value: ${fair_value:.4f}\")\n"
      ],
      "metadata": {
        "colab": {
          "base_uri": "https://localhost:8080/"
        },
        "id": "69_ajTwxXgZP",
        "outputId": "b1599408-1c87-4571-bb20-1843ef1eef4e"
      },
      "execution_count": null,
      "outputs": [
        {
          "output_type": "stream",
          "name": "stdout",
          "text": [
            "✅ Correct fair value: $18.8384\n"
          ]
        }
      ]
    },
    {
      "cell_type": "code",
      "source": [],
      "metadata": {
        "id": "pvx2oowbXhMO"
      },
      "execution_count": null,
      "outputs": []
    }
  ]
}